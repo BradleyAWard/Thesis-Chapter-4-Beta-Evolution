{
 "cells": [
  {
   "cell_type": "markdown",
   "metadata": {},
   "source": [
    "## SED Fitting"
   ]
  },
  {
   "cell_type": "markdown",
   "metadata": {},
   "source": [
    "---"
   ]
  },
  {
   "cell_type": "markdown",
   "metadata": {},
   "source": [
    "### Imports"
   ]
  },
  {
   "cell_type": "code",
   "execution_count": 1,
   "metadata": {},
   "outputs": [],
   "source": [
    "import utils\n",
    "import astropy.units as u\n",
    "from astropy.cosmology import Planck18 as cosmo\n",
    "utils.rcparams()"
   ]
  },
  {
   "cell_type": "markdown",
   "metadata": {},
   "source": [
    "---"
   ]
  },
  {
   "cell_type": "markdown",
   "metadata": {},
   "source": [
    "### Generate Samples"
   ]
  },
  {
   "cell_type": "code",
   "execution_count": 3,
   "metadata": {},
   "outputs": [
    {
     "name": "stdout",
     "output_type": "stream",
     "text": [
      "Number of SPT sources = 79\n",
      "Number of HerBS sources = 30\n"
     ]
    }
   ],
   "source": [
    "# Load the data and gather the primary and secondary samples\n",
    "list_sources = utils.full_loader('catalogue_combined.csv')\n",
    "primary_sample = list_sources[list_sources['sample'] == 2]\n",
    "\n",
    "# Split samples into SPT and HerBS sources\n",
    "spt_sample = primary_sample[primary_sample['spt_herbs'] == 1]\n",
    "herbs_sample = primary_sample[primary_sample['spt_herbs'] == 2]\n",
    "spt_sample = spt_sample.reset_index()\n",
    "herbs_sample = herbs_sample.reset_index()\n",
    "\n",
    "print('Number of SPT sources = {}'.format(len(spt_sample)))\n",
    "print('Number of HerBS sources = {}'.format(len(herbs_sample)))"
   ]
  },
  {
   "cell_type": "code",
   "execution_count": 4,
   "metadata": {},
   "outputs": [
    {
     "name": "stdout",
     "output_type": "stream",
     "text": [
      "Number of SPT sources with measured r = 37\n"
     ]
    }
   ],
   "source": [
    "# Select SPT sources with known continuum sizes\n",
    "spt_sample_r = spt_sample[spt_sample['reff'] > 0]\n",
    "spt_sample_r = spt_sample_r.reset_index()\n",
    "print('Number of SPT sources with measured r = {}'.format(len(spt_sample_r)))"
   ]
  },
  {
   "cell_type": "code",
   "execution_count": 5,
   "metadata": {},
   "outputs": [],
   "source": [
    "# Convert continuum size from arcsec to kpc\n",
    "spt_r = [(((theta*u.arcsec).to(u.rad).value*(cosmo.luminosity_distance(z=z).to(u.m)/((1+z)**2))).to(u.kpc)).value for theta,z in zip(spt_sample_r['reff'], spt_sample_r['zspec'])]\n",
    "spt_sample_r['R'] = spt_r"
   ]
  },
  {
   "cell_type": "markdown",
   "metadata": {},
   "source": [
    "---"
   ]
  },
  {
   "cell_type": "markdown",
   "metadata": {},
   "source": [
    "### Run and Save Models"
   ]
  },
  {
   "cell_type": "code",
   "execution_count": null,
   "metadata": {},
   "outputs": [],
   "source": [
    "# SPT\n",
    "spt_catalogue = utils.create_catalogue(spt_sample)\n",
    "spt_catalogue, spt_catalogue_df = utils.catalogue_results(spt_catalogue, opacity_models='fixed_wave', fixparams='lambda_thick', fixvalues=200)\n",
    "utils.save_catalogue(spt_catalogue, 'model_results', 'spt_catalogue_go_200')\n",
    "utils.save_catalogue(spt_catalogue_df, 'model_results', 'spt_catalogue_go_200_summary')"
   ]
  },
  {
   "cell_type": "code",
   "execution_count": null,
   "metadata": {},
   "outputs": [],
   "source": [
    "# SPT (With known continuum size)\n",
    "spt_catalogue = utils.create_catalogue(spt_sample_r)\n",
    "spt_catalogue, spt_catalogue_df = utils.catalogue_results(spt_catalogue, opacity_models='continuum_area', fixparams_array=['r']*len(spt_sample_r), fixvalues_array=spt_sample_r['R'])\n",
    "utils.save_catalogue(spt_catalogue, 'model_results', 'spt_catalogue_go_r')\n",
    "utils.save_catalogue(spt_catalogue_df, 'model_results', 'spt_catalogue_go_r_summary')"
   ]
  },
  {
   "cell_type": "code",
   "execution_count": null,
   "metadata": {},
   "outputs": [],
   "source": [
    "# HerBS\n",
    "herbs_catalogue = utils.create_catalogue(herbs_sample)\n",
    "herbs_catalogue, herbs_catalogue_df = utils.catalogue_results(herbs_catalogue, opacity_models='fixed_wave', fixparams='lambda_thick', fixvalues=200)\n",
    "utils.save_catalogue(herbs_catalogue, 'model_results', 'herbs_catalogue_go_200')\n",
    "utils.save_catalogue(herbs_catalogue_df, 'model_results', 'herbs_catalogue_go_200_summary')"
   ]
  }
 ],
 "metadata": {
  "kernelspec": {
   "display_name": "Python 3",
   "language": "python",
   "name": "python3"
  },
  "language_info": {
   "codemirror_mode": {
    "name": "ipython",
    "version": 3
   },
   "file_extension": ".py",
   "mimetype": "text/x-python",
   "name": "python",
   "nbconvert_exporter": "python",
   "pygments_lexer": "ipython3",
   "version": "3.11.0"
  }
 },
 "nbformat": 4,
 "nbformat_minor": 2
}
